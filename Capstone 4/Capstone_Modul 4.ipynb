{
 "cells": [
  {
   "cell_type": "code",
   "execution_count": 1,
   "metadata": {},
   "outputs": [],
   "source": [
    "## imporrt libarary \n",
    "import os\n",
    "import pandas as pd\n",
    "import numpy as np\n",
    "\n",
    "#import google cloud library\n",
    "from google.cloud import bigquery\n",
    "from google.cloud import storage\n",
    "from google.cloud import aiplatform\n",
    "\n",
    "## sklearn module\n",
    "import pickle\n",
    "import xgboost\n",
    "from xgboost import XGBRegressor\n"
   ]
  },
  {
   "cell_type": "markdown",
   "metadata": {},
   "source": [
    "### Authenticate to GCP using Services Account \n",
    "\n",
    "- Depending on your Jupyter environment, you may have to manually \n",
    "\n",
    "- Call \"sa-development.json\" as teh auth to GCP \n",
    "\n",
    "- Adjust your path where the all code stored in you local "
   ]
  },
  {
   "cell_type": "code",
   "execution_count": 2,
   "metadata": {},
   "outputs": [],
   "source": [
    "## set up authentication using services account \n",
    "# Authenticate using service account\n",
    "# os.environ['GOOGLE_APPLICATION_CREDENTIALS'] = \"../jaya-000/sa-development.json\"\n",
    "os.environ['GOOGLE_APPLICATION_CREDENTIALS'] = \"../luqman_022/sa-development.json\""
   ]
  },
  {
   "cell_type": "code",
   "execution_count": 3,
   "metadata": {},
   "outputs": [],
   "source": [
    "project_id = 'dti-ds'\n",
    "dataset_id = 'luqman_dataset_022'\n",
    "table_id = 'test_data'\n",
    "region = 'us-central1'\n",
    "bucket_name = 'luqman_gcs_022'\n",
    "blob_name = 'data/test_data.csv'"
   ]
  },
  {
   "cell_type": "markdown",
   "metadata": {},
   "source": [
    "# Load and Data Preparation"
   ]
  },
  {
   "cell_type": "code",
   "execution_count": 4,
   "metadata": {},
   "outputs": [
    {
     "name": "stderr",
     "output_type": "stream",
     "text": [
      "/home/luqmanilman/miniconda3/envs/lqliciouscapstone/lib/python3.11/site-packages/google/cloud/bigquery/table.py:1727: UserWarning: BigQuery Storage module not found, fetch data with the REST endpoint instead.\n",
      "  warnings.warn(\n"
     ]
    },
    {
     "data": {
      "text/html": [
       "<div>\n",
       "<style scoped>\n",
       "    .dataframe tbody tr th:only-of-type {\n",
       "        vertical-align: middle;\n",
       "    }\n",
       "\n",
       "    .dataframe tbody tr th {\n",
       "        vertical-align: top;\n",
       "    }\n",
       "\n",
       "    .dataframe thead th {\n",
       "        text-align: right;\n",
       "    }\n",
       "</style>\n",
       "<table border=\"1\" class=\"dataframe\">\n",
       "  <thead>\n",
       "    <tr style=\"text-align: right;\">\n",
       "      <th></th>\n",
       "      <th>hour</th>\n",
       "      <th>humidity</th>\n",
       "      <th>weather</th>\n",
       "      <th>holiday</th>\n",
       "      <th>season</th>\n",
       "      <th>atemp</th>\n",
       "      <th>month</th>\n",
       "      <th>year</th>\n",
       "      <th>dayname</th>\n",
       "    </tr>\n",
       "  </thead>\n",
       "  <tbody>\n",
       "    <tr>\n",
       "      <th>0</th>\n",
       "      <td>14</td>\n",
       "      <td>0.41</td>\n",
       "      <td>clear</td>\n",
       "      <td>0</td>\n",
       "      <td>winter</td>\n",
       "      <td>0.2121</td>\n",
       "      <td>1</td>\n",
       "      <td>2011</td>\n",
       "      <td>4</td>\n",
       "    </tr>\n",
       "    <tr>\n",
       "      <th>1</th>\n",
       "      <td>14</td>\n",
       "      <td>0.28</td>\n",
       "      <td>clear</td>\n",
       "      <td>0</td>\n",
       "      <td>winter</td>\n",
       "      <td>0.2879</td>\n",
       "      <td>1</td>\n",
       "      <td>2011</td>\n",
       "      <td>2</td>\n",
       "    </tr>\n",
       "    <tr>\n",
       "      <th>2</th>\n",
       "      <td>11</td>\n",
       "      <td>0.44</td>\n",
       "      <td>cloudy</td>\n",
       "      <td>0</td>\n",
       "      <td>winter</td>\n",
       "      <td>0.4394</td>\n",
       "      <td>2</td>\n",
       "      <td>2011</td>\n",
       "      <td>3</td>\n",
       "    </tr>\n",
       "    <tr>\n",
       "      <th>3</th>\n",
       "      <td>9</td>\n",
       "      <td>0.64</td>\n",
       "      <td>clear</td>\n",
       "      <td>0</td>\n",
       "      <td>winter</td>\n",
       "      <td>0.1818</td>\n",
       "      <td>2</td>\n",
       "      <td>2011</td>\n",
       "      <td>5</td>\n",
       "    </tr>\n",
       "    <tr>\n",
       "      <th>4</th>\n",
       "      <td>19</td>\n",
       "      <td>0.87</td>\n",
       "      <td>cloudy</td>\n",
       "      <td>1</td>\n",
       "      <td>winter</td>\n",
       "      <td>0.2121</td>\n",
       "      <td>2</td>\n",
       "      <td>2011</td>\n",
       "      <td>0</td>\n",
       "    </tr>\n",
       "  </tbody>\n",
       "</table>\n",
       "</div>"
      ],
      "text/plain": [
       "   hour  humidity weather  holiday  season   atemp  month  year  dayname\n",
       "0    14      0.41   clear        0  winter  0.2121      1  2011        4\n",
       "1    14      0.28   clear        0  winter  0.2879      1  2011        2\n",
       "2    11      0.44  cloudy        0  winter  0.4394      2  2011        3\n",
       "3     9      0.64   clear        0  winter  0.1818      2  2011        5\n",
       "4    19      0.87  cloudy        1  winter  0.2121      2  2011        0"
      ]
     },
     "execution_count": 4,
     "metadata": {},
     "output_type": "execute_result"
    }
   ],
   "source": [
    "#Load data from Big Query\n",
    "client = bigquery.Client(project=project_id)\n",
    "\n",
    "# query \n",
    "query_job = client.query(f\"\"\"select * from {dataset_id}.{table_id}\"\"\")\n",
    "df_test = query_job.result().to_dataframe()\n",
    "df_test.head()"
   ]
  },
  {
   "cell_type": "markdown",
   "metadata": {},
   "source": [
    "> Try predict with raw data"
   ]
  },
  {
   "cell_type": "code",
   "execution_count": 5,
   "metadata": {},
   "outputs": [],
   "source": [
    "filename = 'model_capstone4.pkl'\n",
    "loaded_model = pickle.load(open(filename, 'rb'))"
   ]
  },
  {
   "cell_type": "code",
   "execution_count": 6,
   "metadata": {},
   "outputs": [],
   "source": [
    "filename = 'model_capstone4_transformer.pkl'\n",
    "loaded_model_transformer = pickle.load(open(filename, 'rb'))"
   ]
  },
  {
   "cell_type": "code",
   "execution_count": 7,
   "metadata": {},
   "outputs": [],
   "source": [
    "x_preprocess = loaded_model_transformer.transform(df_test)"
   ]
  },
  {
   "cell_type": "code",
   "execution_count": 8,
   "metadata": {},
   "outputs": [],
   "source": [
    "predict1 = loaded_model.predict(x_preprocess)"
   ]
  },
  {
   "cell_type": "code",
   "execution_count": 9,
   "metadata": {},
   "outputs": [],
   "source": [
    "df_test['y_pred'] = predict1"
   ]
  },
  {
   "cell_type": "code",
   "execution_count": 10,
   "metadata": {},
   "outputs": [
    {
     "data": {
      "text/html": [
       "<div>\n",
       "<style scoped>\n",
       "    .dataframe tbody tr th:only-of-type {\n",
       "        vertical-align: middle;\n",
       "    }\n",
       "\n",
       "    .dataframe tbody tr th {\n",
       "        vertical-align: top;\n",
       "    }\n",
       "\n",
       "    .dataframe thead th {\n",
       "        text-align: right;\n",
       "    }\n",
       "</style>\n",
       "<table border=\"1\" class=\"dataframe\">\n",
       "  <thead>\n",
       "    <tr style=\"text-align: right;\">\n",
       "      <th></th>\n",
       "      <th>hour</th>\n",
       "      <th>humidity</th>\n",
       "      <th>weather</th>\n",
       "      <th>holiday</th>\n",
       "      <th>season</th>\n",
       "      <th>atemp</th>\n",
       "      <th>month</th>\n",
       "      <th>year</th>\n",
       "      <th>dayname</th>\n",
       "      <th>y_pred</th>\n",
       "    </tr>\n",
       "  </thead>\n",
       "  <tbody>\n",
       "    <tr>\n",
       "      <th>0</th>\n",
       "      <td>14</td>\n",
       "      <td>0.41</td>\n",
       "      <td>clear</td>\n",
       "      <td>0</td>\n",
       "      <td>winter</td>\n",
       "      <td>0.2121</td>\n",
       "      <td>1</td>\n",
       "      <td>2011</td>\n",
       "      <td>4</td>\n",
       "      <td>56.056931</td>\n",
       "    </tr>\n",
       "    <tr>\n",
       "      <th>1</th>\n",
       "      <td>14</td>\n",
       "      <td>0.28</td>\n",
       "      <td>clear</td>\n",
       "      <td>0</td>\n",
       "      <td>winter</td>\n",
       "      <td>0.2879</td>\n",
       "      <td>1</td>\n",
       "      <td>2011</td>\n",
       "      <td>2</td>\n",
       "      <td>56.884987</td>\n",
       "    </tr>\n",
       "    <tr>\n",
       "      <th>2</th>\n",
       "      <td>11</td>\n",
       "      <td>0.44</td>\n",
       "      <td>cloudy</td>\n",
       "      <td>0</td>\n",
       "      <td>winter</td>\n",
       "      <td>0.4394</td>\n",
       "      <td>2</td>\n",
       "      <td>2011</td>\n",
       "      <td>3</td>\n",
       "      <td>93.547791</td>\n",
       "    </tr>\n",
       "    <tr>\n",
       "      <th>3</th>\n",
       "      <td>9</td>\n",
       "      <td>0.64</td>\n",
       "      <td>clear</td>\n",
       "      <td>0</td>\n",
       "      <td>winter</td>\n",
       "      <td>0.1818</td>\n",
       "      <td>2</td>\n",
       "      <td>2011</td>\n",
       "      <td>5</td>\n",
       "      <td>49.502327</td>\n",
       "    </tr>\n",
       "    <tr>\n",
       "      <th>4</th>\n",
       "      <td>19</td>\n",
       "      <td>0.87</td>\n",
       "      <td>cloudy</td>\n",
       "      <td>1</td>\n",
       "      <td>winter</td>\n",
       "      <td>0.2121</td>\n",
       "      <td>2</td>\n",
       "      <td>2011</td>\n",
       "      <td>0</td>\n",
       "      <td>38.156567</td>\n",
       "    </tr>\n",
       "    <tr>\n",
       "      <th>...</th>\n",
       "      <td>...</td>\n",
       "      <td>...</td>\n",
       "      <td>...</td>\n",
       "      <td>...</td>\n",
       "      <td>...</td>\n",
       "      <td>...</td>\n",
       "      <td>...</td>\n",
       "      <td>...</td>\n",
       "      <td>...</td>\n",
       "      <td>...</td>\n",
       "    </tr>\n",
       "    <tr>\n",
       "      <th>95</th>\n",
       "      <td>6</td>\n",
       "      <td>0.49</td>\n",
       "      <td>cloudy</td>\n",
       "      <td>0</td>\n",
       "      <td>fall</td>\n",
       "      <td>0.3182</td>\n",
       "      <td>11</td>\n",
       "      <td>2012</td>\n",
       "      <td>5</td>\n",
       "      <td>24.220985</td>\n",
       "    </tr>\n",
       "    <tr>\n",
       "      <th>96</th>\n",
       "      <td>12</td>\n",
       "      <td>0.46</td>\n",
       "      <td>cloudy</td>\n",
       "      <td>0</td>\n",
       "      <td>fall</td>\n",
       "      <td>0.3939</td>\n",
       "      <td>11</td>\n",
       "      <td>2012</td>\n",
       "      <td>4</td>\n",
       "      <td>273.744843</td>\n",
       "    </tr>\n",
       "    <tr>\n",
       "      <th>97</th>\n",
       "      <td>11</td>\n",
       "      <td>0.52</td>\n",
       "      <td>clear</td>\n",
       "      <td>0</td>\n",
       "      <td>winter</td>\n",
       "      <td>0.2273</td>\n",
       "      <td>12</td>\n",
       "      <td>2012</td>\n",
       "      <td>6</td>\n",
       "      <td>139.229919</td>\n",
       "    </tr>\n",
       "    <tr>\n",
       "      <th>98</th>\n",
       "      <td>9</td>\n",
       "      <td>0.64</td>\n",
       "      <td>cloudy</td>\n",
       "      <td>0</td>\n",
       "      <td>winter</td>\n",
       "      <td>0.2121</td>\n",
       "      <td>12</td>\n",
       "      <td>2012</td>\n",
       "      <td>0</td>\n",
       "      <td>189.032730</td>\n",
       "    </tr>\n",
       "    <tr>\n",
       "      <th>99</th>\n",
       "      <td>10</td>\n",
       "      <td>0.81</td>\n",
       "      <td>Light snow/Light rain</td>\n",
       "      <td>0</td>\n",
       "      <td>winter</td>\n",
       "      <td>0.2424</td>\n",
       "      <td>12</td>\n",
       "      <td>2012</td>\n",
       "      <td>5</td>\n",
       "      <td>56.151196</td>\n",
       "    </tr>\n",
       "  </tbody>\n",
       "</table>\n",
       "<p>100 rows × 10 columns</p>\n",
       "</div>"
      ],
      "text/plain": [
       "    hour  humidity                weather  holiday  season   atemp  month  \\\n",
       "0     14      0.41                  clear        0  winter  0.2121      1   \n",
       "1     14      0.28                  clear        0  winter  0.2879      1   \n",
       "2     11      0.44                 cloudy        0  winter  0.4394      2   \n",
       "3      9      0.64                  clear        0  winter  0.1818      2   \n",
       "4     19      0.87                 cloudy        1  winter  0.2121      2   \n",
       "..   ...       ...                    ...      ...     ...     ...    ...   \n",
       "95     6      0.49                 cloudy        0    fall  0.3182     11   \n",
       "96    12      0.46                 cloudy        0    fall  0.3939     11   \n",
       "97    11      0.52                  clear        0  winter  0.2273     12   \n",
       "98     9      0.64                 cloudy        0  winter  0.2121     12   \n",
       "99    10      0.81  Light snow/Light rain        0  winter  0.2424     12   \n",
       "\n",
       "    year  dayname      y_pred  \n",
       "0   2011        4   56.056931  \n",
       "1   2011        2   56.884987  \n",
       "2   2011        3   93.547791  \n",
       "3   2011        5   49.502327  \n",
       "4   2011        0   38.156567  \n",
       "..   ...      ...         ...  \n",
       "95  2012        5   24.220985  \n",
       "96  2012        4  273.744843  \n",
       "97  2012        6  139.229919  \n",
       "98  2012        0  189.032730  \n",
       "99  2012        5   56.151196  \n",
       "\n",
       "[100 rows x 10 columns]"
      ]
     },
     "execution_count": 10,
     "metadata": {},
     "output_type": "execute_result"
    }
   ],
   "source": [
    "df_test"
   ]
  },
  {
   "cell_type": "markdown",
   "metadata": {},
   "source": [
    "> Try predict with Extreme Values"
   ]
  },
  {
   "cell_type": "code",
   "execution_count": 11,
   "metadata": {},
   "outputs": [
    {
     "data": {
      "text/plain": [
       "[0.0, 0.0, 0.0, 0.0, 1.0, 0.0, 0.0, 1.0, 0.69, 0.2576, 11.0, 2012.0, 0.0]"
      ]
     },
     "execution_count": 11,
     "metadata": {},
     "output_type": "execute_result"
    }
   ],
   "source": [
    "new_cust = [0.0, 0.0, 0.0, 0.0, 1.0, 0.0, 0.0, 1.0, 0.69, 0.2576, 11.0, 2012.0, 0.0]\n",
    "new_cust"
   ]
  },
  {
   "cell_type": "code",
   "execution_count": 12,
   "metadata": {},
   "outputs": [
    {
     "data": {
      "text/plain": [
       "[0.0, 1.0, 0.0, 0.0, 1.0, 0.0, 0.0, 17.0, 0.28, 0.6364, 9.0, 2012.0, 1.0]"
      ]
     },
     "execution_count": 12,
     "metadata": {},
     "output_type": "execute_result"
    }
   ],
   "source": [
    "new_cust2 = [0.0, 1.0, 0.0, 0.0, 1.0, 0.0, 0.0, 17.0, 0.28, 0.6364, 9.0, 2012.0, 1.0]\n",
    "new_cust2"
   ]
  },
  {
   "cell_type": "code",
   "execution_count": 13,
   "metadata": {},
   "outputs": [
    {
     "data": {
      "text/plain": [
       "array([ 14.12539, 963.35284], dtype=float32)"
      ]
     },
     "execution_count": 13,
     "metadata": {},
     "output_type": "execute_result"
    }
   ],
   "source": [
    "loaded_model.predict([new_cust,new_cust2])"
   ]
  },
  {
   "cell_type": "code",
   "execution_count": 14,
   "metadata": {},
   "outputs": [
    {
     "name": "stdout",
     "output_type": "stream",
     "text": [
      "Loaded 100 rows into dti-ds.luqman_dataset_022.data_test_new\n"
     ]
    }
   ],
   "source": [
    "from google.cloud import bigquery\n",
    "\n",
    "table_id = 'data_test_new'\n",
    "\n",
    "# Construct a bigquery client object\n",
    "client = bigquery.Client()\n",
    "\n",
    "# define the full table id\n",
    "table_full_id = f\"{client.project}.{dataset_id}.{table_id}\"\n",
    "\n",
    "df_test.columns = ['_'.join(i.split(' ')) for i in df_test.columns]\n",
    "\n",
    "job = client.load_table_from_dataframe(df_test,table_full_id)\n",
    "\n",
    "job.result()\n",
    "print(f\"Loaded {job.output_rows} rows into {table_full_id}\")"
   ]
  },
  {
   "cell_type": "code",
   "execution_count": null,
   "metadata": {},
   "outputs": [],
   "source": []
  }
 ],
 "metadata": {
  "kernelspec": {
   "display_name": "vertex-ai-env",
   "language": "python",
   "name": "python3"
  },
  "language_info": {
   "codemirror_mode": {
    "name": "ipython",
    "version": 3
   },
   "file_extension": ".py",
   "mimetype": "text/x-python",
   "name": "python",
   "nbconvert_exporter": "python",
   "pygments_lexer": "ipython3",
   "version": "3.11.9"
  }
 },
 "nbformat": 4,
 "nbformat_minor": 2
}
